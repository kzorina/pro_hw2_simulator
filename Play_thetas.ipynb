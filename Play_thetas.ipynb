{
 "cells": [
  {
   "cell_type": "code",
   "execution_count": 1,
   "metadata": {},
   "outputs": [],
   "source": [
    "from ipywidgets import interact\n",
    "from pyphysx_render.meshcat_render import MeshcatViewer\n",
    "import quaternion as npq\n",
    "from pyphysx_utils.rate import Rate\n",
    "from utils import *\n",
    "import json"
   ]
  },
  {
   "cell_type": "code",
   "execution_count": 4,
   "metadata": {},
   "outputs": [
    {
     "name": "stdout",
     "output_type": "stream",
     "text": [
      "You can open the visualizer by visiting the following URL:\n",
      "http://127.0.0.1:7002/static/\n"
     ]
    }
   ],
   "source": [
    "dh_dict = json.load(open(\"hw02.json\", 'rb'))\n",
    "dh_dict['theta0 offset'] = 0\n",
    "dh_dict['d0'] = 0\n",
    "dh_dict['alpha0'] = 0\n",
    "dh_dict['a0'] = 0\n",
    "fixed_thetas = [0., 0., 0., 0., 0., 0., 0.]\n",
    "\n",
    "\"\"\" Construct a scene with various objects \"\"\"\n",
    "scene = Scene()\n",
    "scene.add_actor(RigidStatic.create_plane(material=Material(static_friction=0.1, dynamic_friction=0.1, restitution=0.5)))\n",
    "\n",
    "\"\"\" Add motion axes links to scene \"\"\"\n",
    "links = []\n",
    "n_links = 7\n",
    "for i in range(n_links):\n",
    "    link = add_motion_axis_link()\n",
    "    links.append(link)\n",
    "    scene.add_actor(link)\n",
    "\n",
    "\"\"\" Create a viewer and add the scene into it. \"\"\"\n",
    "render = MeshcatViewer(wait_for_open=True, open_meshcat=True, show_frames=True, frame_scale=0.22)\n",
    "render.add_physx_scene(scene)\n",
    "rate = Rate(120)"
   ]
  },
  {
   "cell_type": "code",
   "execution_count": 5,
   "metadata": {},
   "outputs": [
    {
     "data": {
      "application/vnd.jupyter.widget-view+json": {
       "model_id": "85867c010f3247cf98ae294d7d085e94",
       "version_major": 2,
       "version_minor": 0
      },
      "text/plain": [
       "interactive(children=(FloatSlider(value=0.0, description='theta', max=1.0, min=-1.0, step=0.01), Output()), _d…"
      ]
     },
     "metadata": {},
     "output_type": "display_data"
    }
   ],
   "source": [
    "id_theta = 0\n",
    "@interact(theta=(-1, 1, 0.01))\n",
    "def test(theta=0):\n",
    "    a = np.eye(4)\n",
    "    for i in range(n_links - 1):\n",
    "        if i == id_theta:\n",
    "            fixed_thetas[i] = theta\n",
    "        a = a.dot(get_matrix_dh(dh_dict[f'theta{i} offset'] + fixed_thetas[i], dh_dict[f'd{i}'], dh_dict[f'alpha{i}'], dh_dict[f'a{i}']))\n",
    "        links[i + 1].set_global_pose((a[:3, 3], npq.from_rotation_matrix(a[:3, :3])))\n",
    "        scene.simulate(rate.period())\n",
    "    render.update()\n",
    "    rate.sleep()\n"
   ]
  },
  {
   "cell_type": "code",
   "execution_count": null,
   "metadata": {},
   "outputs": [],
   "source": []
  }
 ],
 "metadata": {
  "kernelspec": {
   "display_name": "Python 3 (ipykernel)",
   "language": "python",
   "name": "python3"
  },
  "language_info": {
   "codemirror_mode": {
    "name": "ipython",
    "version": 3
   },
   "file_extension": ".py",
   "mimetype": "text/x-python",
   "name": "python",
   "nbconvert_exporter": "python",
   "pygments_lexer": "ipython3",
   "version": "3.8.12"
  }
 },
 "nbformat": 4,
 "nbformat_minor": 2
}
